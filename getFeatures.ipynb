{
 "cells": [
  {
   "cell_type": "code",
   "execution_count": 1,
   "metadata": {
    "collapsed": true
   },
   "outputs": [],
   "source": [
    "import json\n",
    "import numpy as np\n",
    "import pandas as pd\n",
    "import math\n",
    "import ast"
   ]
  },
  {
   "cell_type": "code",
   "execution_count": 44,
   "metadata": {},
   "outputs": [
    {
     "name": "stdout",
     "output_type": "stream",
     "text": [
      "3923\n"
     ]
    }
   ],
   "source": [
    "# with open('dataset/business_LV.json') as fd:\n",
    "#     df = json.load(fd)\n",
    "# print(len(df))\n",
    "df = pd.read_csv('dataset/business_LV.csv')\n",
    "print(len(df))"
   ]
  },
  {
   "cell_type": "code",
   "execution_count": 45,
   "metadata": {
    "collapsed": true
   },
   "outputs": [],
   "source": [
    "# [\"business_id\", \"neighborhood\", \"stars\", \"review_count\", \n",
    "#             \"RestaurantsTakeOut\", \"GoodForKids\", \"RestaurantsGoodForGroups\", \n",
    "#             \"RestaurantsReservations\",\"DriveThru\", \"WiFi\",\"BusinessParking\", \"categories\"]"
   ]
  },
  {
   "cell_type": "code",
   "execution_count": 46,
   "metadata": {
    "collapsed": true
   },
   "outputs": [],
   "source": [
    "def variables(all_columns,mode):\n",
    "    cols = all_columns\n",
    "    cat_cols = [\"neighborhood\", \"RestaurantsTakeOut\", \"GoodForKids\", \"RestaurantsGoodForGroups\",\"RestaurantsReservations\",\"DriveThru\", \"WiFi\",\"BusinessParking\", \"categories\"]\n",
    "    if mode == \"cat\":\n",
    "        cols = [\"neighborhood\", \"categories\"]\n",
    "    elif mode == \"bool\":\n",
    "        cols = [\"RestaurantsTakeOut\", \"GoodForKids\", \"RestaurantsGoodForGroups\",\"RestaurantsReservations\",\"DriveThru\", \"WiFi\",\"BusinessParking\"]\n",
    "    elif mode == \"cont\":\n",
    "        cols = ['stars', 'review_count']\n",
    "    print(cols)\n",
    "    return cols"
   ]
  },
  {
   "cell_type": "code",
   "execution_count": 48,
   "metadata": {},
   "outputs": [
    {
     "name": "stdout",
     "output_type": "stream",
     "text": [
      "['neighborhood', 'categories']\n",
      "['neighborhood_The Strip', 'Steakhouses', 'Cajun/Creole', 'Seafood', 'Bars', 'Nightlife', 'American (New)', 'neighborhood_missing', 'Thai', 'neighborhood_Eastside', 'Buffets', 'neighborhood_University', 'Burgers', 'Korean', 'Fast Food', 'neighborhood_Spring Valley', 'Comfort Food', 'Specialty Food', 'Asian Fusion', 'Food', 'neighborhood_Westside', 'Dive Bars', 'Indian', 'Bar Crawl', 'American (Traditional)', 'Chinese', 'Mexican', 'neighborhood_South Summerlin', 'Japanese', 'neighborhood_Sunrise', 'Latin American', 'Salvadoran', 'neighborhood_Chinatown', 'Noodles', 'Vietnamese', 'neighborhood_Southeast', 'Hawaiian', 'South African', 'African', 'Ramen', 'neighborhood_Summerlin', 'Middle Eastern', 'Mediterranean', 'Lebanese', 'Moroccan', 'Breakfast & Brunch', 'Event Planning & Services', 'Lounges', 'Venues & Event Spaces', 'Casinos', 'Arts & Entertainment', 'Beer', 'Wine & Spirits', 'Music Venues', 'Pubs', 'Beer Bar', 'Diners', 'Sushi Bars', 'neighborhood_Southwest', 'Hot Dogs', 'Pizza', 'Health Markets', 'Grocery', 'Fruits & Veggies', 'Farmers Market', 'Gluten-Free', 'Desserts', 'Cafes', 'Tex-Mex', 'Sandwiches', 'Delis', 'Salad', 'Sports Bars', 'Food Stands', 'Cocktail Bars', 'neighborhood_Downtown', 'Beer Gardens', 'Ice Cream & Frozen Yogurt', 'Vegetarian', 'Ethnic Food', 'Coffee & Tea', 'Bagels', 'Candy Stores', 'Halal', 'Kosher', 'Barbeque', 'Filipino', 'Soup', 'Bubble Tea', 'Taiwanese', 'Juice Bars & Smoothies', 'Tea Rooms', 'Southern', 'neighborhood_Centennial', 'Spanish', 'Caribbean', 'Chicken Wings', 'Italian', 'Caterers', 'neighborhood_Northwest', 'Bakeries', 'Food Delivery Services', 'Chicken Shop', 'Convenience Stores', 'Kids Activities', 'Playgrounds', 'Active Life', 'Persian/Iranian', 'Wine Bars', 'Waffles', 'Butcher', 'Street Vendors', 'Food Trucks', 'French', 'Doctors', 'Drugstores', 'Shopping', 'Health & Medical', 'Soul Food', 'Fondue', 'Hot Pot', 'Auto Repair', 'Financial Services', 'Auto Glass Services', 'Automotive', 'Towing', 'Oil Change Stations', 'Windshield Installation & Repair', 'Insurance', 'Auto Insurance', 'Transmission Repair', 'Auto Parts & Supplies', 'Hotels & Travel', 'Hotels', 'Gastropubs', 'Performing Arts', 'Honduran', 'Cheesesteaks', 'Karaoke', 'Puerto Rican', 'Pool Halls', 'Malaysian', 'Cuban', 'Vegan', 'Acai Bowls', 'Poke', 'neighborhood_The Lakes', 'Venezuelan', 'Live/Raw Food', 'Creperies', 'Tacos', 'Dance Clubs', 'Party & Event Planning', 'Shaved Ice', 'Macarons', 'Wraps', 'Imported Food', 'Tabletop Games', 'Organic Stores', 'British', 'Tapas/Small Plates', 'Home Cleaning', 'Local Services', 'Home Services', 'Professional Services', 'Appliances & Repair', 'Food Court', 'Cupcakes', 'Donuts', 'Do-It-Yourself Food', 'Golf', 'Cantonese', 'Meat Shops', 'Falafel', 'Pakistani', 'Coffee Roasteries', 'Personal Chefs', 'Custom Cakes', 'Peruvian', 'Party Supplies', 'Brasseries', 'Seafood Markets', 'Afghan', 'Himalayan/Nepalese', 'Personal Shopping', 'Beauty & Spas', 'Cosmetics & Beauty Supply', 'Greek', 'Pretzels', 'Internet Cafes', 'Gelato', 'Ethiopian', 'Breweries', 'Singaporean', 'Chocolatiers & Shops', 'Public Services & Government', 'Musicians', 'Local Flavor', 'Fish & Chips', 'Hookah Bars', 'Tuscan', 'Bistros', 'Festivals', 'Tapas Bars', 'Patisserie/Cake Shop', 'Truck Rental', 'Gas Stations', 'Shopping Centers', 'Ukrainian', 'Arcades', 'Gun/Rifle Ranges', 'Landmarks & Historical Buildings', 'Tours', 'Irish', 'Outlet Stores', 'Fashion', 'Wedding Planning', 'Paint & Sip', 'Education', 'Art Classes', 'Teppanyaki', 'Wineries', 'Pan Asian', 'Cheese Shops', 'Bowling', 'Department Stores', 'Gay Bars', 'Dim Sum', 'Screen Printing', 'Printing Services', 'Jazz & Blues', 'Hair Salons', 'Permanent Makeup', 'Pasta Shops', 'Laotian', 'Belgian', 'Arabian', 'Resorts', 'Antiques', 'Home & Garden', 'Szechuan', 'Day Spas', 'Swimming Pools', 'Adult Entertainment', 'Cabaret', 'German', 'Art Galleries', 'International Grocery', 'Ethnic Grocery', 'Argentine', 'Massage Therapy', 'Physical Therapy', 'Reflexology', 'Massage', 'Acupuncture', 'Plumbing', 'Occupational Therapy', 'Rehabilitation Center', 'Pilates', 'Fitness & Instruction', 'Furniture Repair', 'Nail Salons', 'Fur Clothing', 'DJs', 'Furniture Stores', 'Electronics', 'Brazilian', 'Nicaraguan', 'Ethic Grocery', \"Women's Clothing\", 'Car Dealers', 'Aircraft Repairs', 'Interior Design', 'Heating & Air Conditioning/HVAC', 'Air Duct Cleaning', 'Airsoft', 'Family Practice', 'Japanese Curry', 'Izakaya', 'neighborhood_Anthem', 'Home Decor', 'Scandinavian', 'Kitchen & Bath', 'Baby Gear & Furniture', 'Russian', 'Personal Assistants', 'Limos', 'Party Bus Rentals', 'Security Services', 'Transportation', 'Travel Services', 'Airport Shuttles', 'Laundry Services', 'Car Rental', 'Dry Cleaning', 'New Mexican Cuisine', 'Amusement Parks', 'Kebab', 'Beverage Store', 'Airports', 'Guamanian', 'Cinema', 'Themed Cafes', 'Country Dance Halls', 'Bed & Breakfast', 'Trainers', 'Martial Arts', 'Gyms', 'Modern European', 'Books', 'Mags', 'Music & Video', 'Videos & Video Game Rental', 'Nutritionists', 'Vitamins & Supplements', 'Weight Loss Centers', 'Polish', 'Feng Shui', 'Delicatessen', 'Shanghainese', 'Vehicle Wraps', 'Signmaking', 'Auto Customization', 'Piano Bars', 'Social Clubs', 'Colombian', 'Mongolian', 'Beer Garden', 'Dinner Theater', 'Bingo Halls', 'Flowers & Gifts', 'Gift Shops', \"Men's Clothing\", 'Portuguese', 'Coffeeshops', 'Armenian', 'Irish Pub', 'Walking Tours', 'Food Tours', 'Bangladeshi', 'Drive-Thru Bars', 'Hong Kong Style Cafe', 'Eyebrow Services', 'Makeup Artists', 'RV Parks', 'Car Wash', 'Colleges & Universities', 'Local Fish Stores', 'Pet Stores', 'Pet Services', 'Aquarium Services', 'Aquariums', 'Hobby Shops', 'Pets', 'Septic Services', 'Water Heater Installation/Repair', 'Turkish', 'Yoga', 'Meditation Centers', 'Hostels', 'Mortgage Brokers', 'Real Estate', 'Smokehouse', 'Cafeteria', 'Cultural Center', 'Soba', 'Tobacco Shops', 'Water Stores', 'Pub Food', 'Wedding Chapels', 'Discount Store', 'Appliances', 'Wholesalers', 'Restaurant Supplies']\n"
     ]
    }
   ],
   "source": [
    "# def format_long_data_cat(df,cols_to_feat,time):\n",
    "    #First 6 hours\n",
    "cols_to_feat = []\n",
    "new_df = df.copy()\n",
    "new_df = new_df.sort_values(['business_id'])\n",
    "id_list = sorted(list(set(list(new_df['business_id']))))\n",
    "cols = variables(new_df.columns,\"cat\")\n",
    "\n",
    "for id in id_list:\n",
    "    temp = new_df[new_df['business_id']==id]\n",
    "    for idx,row in temp.iterrows():\n",
    "        for col in cols:\n",
    "            if (col == 'categories'):\n",
    "                options = ast.literal_eval(row[col])\n",
    "                for option in options:\n",
    "                    if (option != \"Restaurants\" and option not in cols_to_feat):\n",
    "                        cols_to_feat.append(option)\n",
    "            else:\n",
    "                suffix = row[col]\n",
    "                if (type(suffix) is float and math.isnan(suffix)):\n",
    "                    suffix = \"missing\"\n",
    "                else:\n",
    "                    suffix = row[col]\n",
    "                if (col+'_'+suffix) not in cols_to_feat:\n",
    "                    cols_to_feat.append(col+'_'+suffix)\n",
    "print(cols_to_feat)\n"
   ]
  },
  {
   "cell_type": "code",
   "execution_count": 49,
   "metadata": {},
   "outputs": [
    {
     "name": "stdout",
     "output_type": "stream",
     "text": [
      "(3923, 374)\n",
      "374\n"
     ]
    }
   ],
   "source": [
    "cat_arr = np.zeros((len(id_list),len(cols_to_feat)))\n",
    "print(cat_arr.shape)\n",
    "i = 0\n",
    "for id in id_list:\n",
    "    temp = new_df[new_df['business_id']==id]\n",
    "    for idx,row in temp.iterrows():\n",
    "        feature_vector = np.zeros((len(cols_to_feat)))\n",
    "        j = 0\n",
    "#         print(row)\n",
    "        for col in cols:\n",
    "            if (col == \"categories\"):\n",
    "                options = ast.literal_eval(row[col])\n",
    "                for option in options:\n",
    "                    if (option != \"Restaurants\"):\n",
    "                        feature_vector[cols_to_feat.index(option)] = 1\n",
    "            else:\n",
    "                suffix = row[col]\n",
    "                if (type(suffix) is float and math.isnan(suffix)):\n",
    "                    suffix = \"missing\"\n",
    "                else:\n",
    "                    suffix = row[col]\n",
    "                feature_vector[cols_to_feat.index(col+'_'+suffix)] = 1\n",
    "        cat_arr[i] = feature_vector\n",
    "        i+=1\n",
    "print(len(cols_to_feat))"
   ]
  },
  {
   "cell_type": "code",
   "execution_count": 50,
   "metadata": {},
   "outputs": [
    {
     "name": "stdout",
     "output_type": "stream",
     "text": [
      "['RestaurantsTakeOut', 'GoodForKids', 'RestaurantsGoodForGroups', 'RestaurantsReservations', 'DriveThru', 'WiFi', 'BusinessParking']\n",
      "(3923, 7)\n",
      "381\n"
     ]
    }
   ],
   "source": [
    "cols = variables(new_df.columns,\"bool\")\n",
    "for col in cols:\n",
    "    cols_to_feat.append(col)\n",
    "bool_arr = np.zeros((len(id_list), len(cols)))\n",
    "i = 0\n",
    "for id in id_list:\n",
    "    temp = new_df[new_df['business_id']==id]\n",
    "    for idx,row in temp.iterrows():\n",
    "        feature_vector = np.zeros((len(cols)))\n",
    "        j = 0\n",
    "        for col in cols:\n",
    "            if bool(row[col]):\n",
    "                feature_vector[cols.index(col)] = 1\n",
    "        bool_arr[i] = feature_vector\n",
    "        i+=1\n",
    "print(bool_arr.shape)\n",
    "print(len(cols_to_feat))"
   ]
  },
  {
   "cell_type": "code",
   "execution_count": 53,
   "metadata": {},
   "outputs": [],
   "source": [
    "# cols= variables(new_df.columns, \"cont\")\n",
    "li1 = []\n",
    "c = \"review_count\"\n",
    "# for c in cols:\n",
    "for id in id_list:\n",
    "    temp = new_df[new_df['business_id']==id]\n",
    "    for idx,row in temp.iterrows():\n",
    "        li1.append(row[c])\n"
   ]
  },
  {
   "cell_type": "code",
   "execution_count": 54,
   "metadata": {},
   "outputs": [
    {
     "name": "stdout",
     "output_type": "stream",
     "text": [
      "381\n",
      "[3.0, 14.0, 38.0, 95.0, 261.0, 6979.0]\n",
      "[ 0.  0.  0.  0.  1.]\n",
      "386\n"
     ]
    }
   ],
   "source": [
    "print(len(cols_to_feat))\n",
    "count_arr=np.zeros((len(id_list), 5))\n",
    "temp = pd.Series(li1)\n",
    "bins = list(pd.qcut(pd.Series(li1),5,duplicates='drop',retbins=True)[1])\n",
    "print(bins)\n",
    "for i in range(len(bins)-1):\n",
    "    cols_to_feat.append(c+str(bins[i])+'_'+str(bins[i+1]))\n",
    "j = 0\n",
    "for id in id_list:\n",
    "    temp = new_df[new_df['business_id']==id]\n",
    "    for idx,row in temp.iterrows():\n",
    "        review_count = row[c]\n",
    "#         print(review_count)\n",
    "        feature_vector = np.zeros(5)\n",
    "        for i in range(len(bins)-1):\n",
    "            if bins[i] <= review_count and bins[i+1] >= review_count:\n",
    "                feature_vector[i] = 1\n",
    "                break\n",
    "        count_arr[j] = feature_vector\n",
    "        j+=1\n",
    "print(count_arr[0])\n",
    "print(len(cols_to_feat))"
   ]
  },
  {
   "cell_type": "code",
   "execution_count": 55,
   "metadata": {},
   "outputs": [
    {
     "name": "stdout",
     "output_type": "stream",
     "text": [
      "[ 0.8]\n"
     ]
    }
   ],
   "source": [
    "rating_arr = np.zeros((len(id_list), 1))\n",
    "c = \"stars\"\n",
    "cols_to_feat.append(c)\n",
    "j = 0\n",
    "for id in id_list:\n",
    "    temp = new_df[new_df['business_id']==id]\n",
    "    for idx,row in temp.iterrows():\n",
    "        feature_vector = np.zeros(1)\n",
    "        feature_vector[0] = float(row[c])/5.0\n",
    "        rating_arr[j] = feature_vector\n",
    "        j+=1\n",
    "print(rating_arr[0])"
   ]
  },
  {
   "cell_type": "code",
   "execution_count": 56,
   "metadata": {},
   "outputs": [
    {
     "name": "stdout",
     "output_type": "stream",
     "text": [
      "(3923, 387)\n",
      "387\n"
     ]
    }
   ],
   "source": [
    "complete_data = np.concatenate((cat_arr,bool_arr,count_arr,rating_arr),axis=1)\n",
    "print(complete_data.shape)\n",
    "print(len(cols_to_feat))\n"
   ]
  },
  {
   "cell_type": "code",
   "execution_count": 62,
   "metadata": {
    "collapsed": true
   },
   "outputs": [],
   "source": [
    "def getIDPath():\n",
    "    return 'dataset/ids.npy'\n",
    "\n",
    "def getFeaturesPath():\n",
    "    return 'dataset/features.npy'\n",
    "\n",
    "def getDictPath():\n",
    "    return 'dataset/cols2Dict.npy'"
   ]
  },
  {
   "cell_type": "code",
   "execution_count": 63,
   "metadata": {},
   "outputs": [],
   "source": [
    "np.save(getFeaturesPath(),complete_data)\n",
    "np.save(getDictPath(),cols_to_feat)\n",
    "np.save(getIDPath(),id_list)"
   ]
  },
  {
   "cell_type": "code",
   "execution_count": null,
   "metadata": {
    "collapsed": true
   },
   "outputs": [],
   "source": []
  }
 ],
 "metadata": {
  "kernelspec": {
   "display_name": "Python 3",
   "language": "python",
   "name": "python3"
  },
  "language_info": {
   "codemirror_mode": {
    "name": "ipython",
    "version": 3
   },
   "file_extension": ".py",
   "mimetype": "text/x-python",
   "name": "python",
   "nbconvert_exporter": "python",
   "pygments_lexer": "ipython3",
   "version": "3.6.3"
  }
 },
 "nbformat": 4,
 "nbformat_minor": 2
}
