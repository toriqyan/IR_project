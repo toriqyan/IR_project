{
 "cells": [
  {
   "cell_type": "code",
   "execution_count": 1,
   "metadata": {
    "collapsed": true
   },
   "outputs": [],
   "source": [
    "import json\n",
    "\n",
    "city_name = 'Las Vegas'\n",
    "city_initial = 'LV'"
   ]
  },
  {
   "cell_type": "code",
   "execution_count": 2,
   "metadata": {},
   "outputs": [
    {
     "name": "stdout",
     "output_type": "stream",
     "text": [
      "156639\n",
      "4736897\n"
     ]
    }
   ],
   "source": [
    "restaurants = []\n",
    "reviews = []\n",
    "with open('dataset/business.json') as fin:\n",
    "\tfor line in fin:\n",
    "\t\tline_contents = json.loads(line)\n",
    "\t\trestaurants.append(line_contents)\n",
    "print(len(restaurants))\n",
    "\n",
    "with open('dataset/review.json') as fin:\n",
    "\tfor line in fin:\n",
    "\t\tline_contents = json.loads(line)\n",
    "\t\treviews.append(line_contents)\n",
    "print(len(reviews))"
   ]
  },
  {
   "cell_type": "code",
   "execution_count": 3,
   "metadata": {},
   "outputs": [
    {
     "name": "stdout",
     "output_type": "stream",
     "text": [
      "24768\n",
      "740104\n"
     ]
    }
   ],
   "source": [
    "target_restaurants = []\n",
    "target_reviews = []\n",
    "\n",
    "for restaurant in restaurants:\n",
    "    \n",
    "    if (restaurant[\"city\"] == city_name):\n",
    "        target_restaurants.append(restaurant)\n",
    "        i = 0\n",
    "        while i < len(reviews):\n",
    "            review = reviews[i]\n",
    "            if review[\"business_id\"] == restaurant[\"business_id\"]:\n",
    "                target_reviews.append(review)\n",
    "                del reviews[i]\n",
    "            i+=1\n",
    "                \n",
    "print(len(target_restaurants))\n",
    "print(len(target_reviews))"
   ]
  },
  {
   "cell_type": "code",
   "execution_count": 4,
   "metadata": {
    "collapsed": true
   },
   "outputs": [],
   "source": [
    "with open('dataset/business_'+city_initial+'.json', 'w+') as business_out:\n",
    "\tjson.dump(target_restaurants, business_out)\n",
    "    \n",
    "with open('dataset/review_'+city_initial+'.json', 'w+') as reviews_out:\n",
    "\tjson.dump(target_reviews, reviews_out)"
   ]
  },
  {
   "cell_type": "code",
   "execution_count": 24,
   "metadata": {},
   "outputs": [
    {
     "name": "stdout",
     "output_type": "stream",
     "text": [
      "24768\n"
     ]
    }
   ],
   "source": [
    "import json\n",
    "import csv\n",
    "with open('dataset/business_LV.json') as business_out:\n",
    "\tdf = json.load(business_out)\n",
    "print(len(df))\n",
    "f = csv.writer(open(\"dataset/business_LV.csv\", 'w', newline=''))\n",
    "f.writerow([\"business_id\", \"neighborhood\", \"stars\", \"review_count\", \n",
    "            \"RestaurantsTakeOut\", \"GoodForKids\", \"RestaurantsGoodForGroups\", \n",
    "            \"RestaurantsReservations\",\"DriveThru\", \"WiFi\",\"BusinessParking\", \"categories\"])\n",
    "for x in df:\n",
    "#     print(x[\"attributes\"])\n",
    "    if (\"Restaurants\" in x[\"categories\"] and bool(x[\"is_open\"])):\n",
    "        f.writerow([x[\"business_id\"],\n",
    "                    x[\"neighborhood\"],\n",
    "                    x[\"stars\"],\n",
    "                    x[\"review_count\"],\n",
    "                    True if (\"RestaurantsTakeOut\" in x[\"attributes\"] and bool(x[\"attributes\"][\"RestaurantsTakeOut\"])) else False,\n",
    "                    True if (\"GoodForKids\" in x[\"attributes\"] and bool(x[\"attributes\"][\"GoodForKids\"])) else False,\n",
    "                    True if (\"RestaurantsGoodForGroups\" in x[\"attributes\"] and bool(x[\"attributes\"][\"RestaurantsGoodForGroups\"])) else False,\n",
    "                    True if (\"RestaurantsReservations\" in x[\"attributes\"] and bool(x[\"attributes\"][\"RestaurantsReservations\"])) else False,\n",
    "                    True if (\"DriveThru\" in x[\"attributes\"] and bool(x[\"attributes\"][\"DriveThru\"])) else False,\n",
    "                    True if (\"WiFi\" in x[\"attributes\"] and bool(x[\"attributes\"][\"WiFi\"])) else False,\n",
    "                    True if (\"BusinessParking\" in x[\"attributes\"] and (bool(x[\"attributes\"][\"BusinessParking\"][\"garage\"])\n",
    "                    or bool(x[\"attributes\"][\"BusinessParking\"][\"street\"])\n",
    "                    or bool(x[\"attributes\"][\"BusinessParking\"][\"validated\"])\n",
    "                    or bool(x[\"attributes\"][\"BusinessParking\"][\"lot\"])\n",
    "                    or bool(x[\"attributes\"][\"BusinessParking\"][\"valet\"]))) else False,\n",
    "                    str(x[\"categories\"])])"
   ]
  },
  {
   "cell_type": "code",
   "execution_count": null,
   "metadata": {
    "collapsed": true
   },
   "outputs": [],
   "source": []
  },
  {
   "cell_type": "code",
   "execution_count": null,
   "metadata": {
    "collapsed": true
   },
   "outputs": [],
   "source": []
  }
 ],
 "metadata": {
  "kernelspec": {
   "display_name": "Python 3",
   "language": "python",
   "name": "python3"
  },
  "language_info": {
   "codemirror_mode": {
    "name": "ipython",
    "version": 3
   },
   "file_extension": ".py",
   "mimetype": "text/x-python",
   "name": "python",
   "nbconvert_exporter": "python",
   "pygments_lexer": "ipython3",
   "version": "3.6.3"
  }
 },
 "nbformat": 4,
 "nbformat_minor": 2
}
