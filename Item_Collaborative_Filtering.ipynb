{
 "cells": [
  {
   "cell_type": "code",
   "execution_count": 1,
   "metadata": {
    "collapsed": true
   },
   "outputs": [],
   "source": [
    "from scipy.spatial.distance import correlation\n",
    "import numpy as np\n",
    "\n",
    "def similarity(business1,business2):\n",
    "    user1=np.array(user1)-np.nanmean(user1)  \n",
    "    user2=np.array(user2)-np.nanmean(user2)\n",
    "    \n",
    "    # Now to find the similarity between 2 users\n",
    "    # Gives us restaurants for which both users have non NaN ratings \n",
    "    commonItemIds=[i for i in range(len(user1)) if user1[i]>0 and user2[i]>0]\n",
    "    if len(commonItemIds)==0:\n",
    "        return 0\n",
    "    else:\n",
    "        user1=np.array([user1[i] for i in commonItemIds])\n",
    "        user2=np.array([user2[i] for i in commonItemIds])\n",
    "        return correlation(user1,user2)"
   ]
  },
  {
   "cell_type": "code",
   "execution_count": null,
   "metadata": {
    "collapsed": true
   },
   "outputs": [],
   "source": [
    "from sklearn.metrics.pairwise import cosine_similarity\n",
    "np_arrays = np.load('dataset/features.npy')\n"
   ]
  }
 ],
 "metadata": {
  "kernelspec": {
   "display_name": "Python 3",
   "language": "python",
   "name": "python3"
  },
  "language_info": {
   "codemirror_mode": {
    "name": "ipython",
    "version": 3
   },
   "file_extension": ".py",
   "mimetype": "text/x-python",
   "name": "python",
   "nbconvert_exporter": "python",
   "pygments_lexer": "ipython3",
   "version": "3.6.3"
  }
 },
 "nbformat": 4,
 "nbformat_minor": 2
}
