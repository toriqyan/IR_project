{
 "cells": [
  {
   "cell_type": "code",
   "execution_count": 2,
   "metadata": {
    "collapsed": true
   },
   "outputs": [],
   "source": [
    "import numpy as np\n",
    "import pandas as pd"
   ]
  },
  {
   "cell_type": "code",
   "execution_count": 3,
   "metadata": {
    "collapsed": true
   },
   "outputs": [],
   "source": [
    "import json\n",
    "\n",
    "with open('business_LV.json', 'r') as f:\n",
    "    business_data = json.load(f)\n",
    "    \n",
    "with open('review_LV.json','r') as k:\n",
    "    review_data = json.load(k)"
   ]
  },
  {
   "cell_type": "code",
   "execution_count": 4,
   "metadata": {
    "collapsed": true
   },
   "outputs": [],
   "source": [
    "business_df = pd.DataFrame(business_data)\n",
    "review_df = pd.DataFrame(review_data)"
   ]
  },
  {
   "cell_type": "code",
   "execution_count": 5,
   "metadata": {
    "collapsed": true
   },
   "outputs": [],
   "source": [
    "business_df.head()\n",
    "business_info = pd.DataFrame({'business_id':business_df.business_id, 'company_name':business_df.name})\n",
    "business_info_dict={}\n",
    "for i in range(len(business_info.index)):\n",
    "    key = business_info.loc[i].business_id\n",
    "    value = business_info.loc[i].company_name\n",
    "    business_info_dict.update({key:value})"
   ]
  },
  {
   "cell_type": "code",
   "execution_count": 35,
   "metadata": {},
   "outputs": [
    {
     "data": {
      "text/html": [
       "<div>\n",
       "<style>\n",
       "    .dataframe thead tr:only-child th {\n",
       "        text-align: right;\n",
       "    }\n",
       "\n",
       "    .dataframe thead th {\n",
       "        text-align: left;\n",
       "    }\n",
       "\n",
       "    .dataframe tbody tr th {\n",
       "        vertical-align: top;\n",
       "    }\n",
       "</style>\n",
       "<table border=\"1\" class=\"dataframe\">\n",
       "  <thead>\n",
       "    <tr style=\"text-align: right;\">\n",
       "      <th></th>\n",
       "      <th>business_id</th>\n",
       "      <th>company_name</th>\n",
       "    </tr>\n",
       "  </thead>\n",
       "  <tbody>\n",
       "    <tr>\n",
       "      <th>0</th>\n",
       "      <td>N9BN9ldVl1FNzcB9_eAstw</td>\n",
       "      <td>Red Rock Bowling UYE Part 2</td>\n",
       "    </tr>\n",
       "    <tr>\n",
       "      <th>1</th>\n",
       "      <td>BmSJ6C7Y9s3tHotRetVbmA</td>\n",
       "      <td>U.S. Bank</td>\n",
       "    </tr>\n",
       "    <tr>\n",
       "      <th>2</th>\n",
       "      <td>xmY0pzNvZKEzuN0XEqeV5w</td>\n",
       "      <td>QQ Foot Spa</td>\n",
       "    </tr>\n",
       "    <tr>\n",
       "      <th>3</th>\n",
       "      <td>aj1C0D7hniEPpsTidbCQIg</td>\n",
       "      <td>Express Collision Center</td>\n",
       "    </tr>\n",
       "    <tr>\n",
       "      <th>4</th>\n",
       "      <td>45arahaS6jTtYBw_STLDXg</td>\n",
       "      <td>Wells Fargo Bank</td>\n",
       "    </tr>\n",
       "  </tbody>\n",
       "</table>\n",
       "</div>"
      ],
      "text/plain": [
       "              business_id                 company_name\n",
       "0  N9BN9ldVl1FNzcB9_eAstw  Red Rock Bowling UYE Part 2\n",
       "1  BmSJ6C7Y9s3tHotRetVbmA                    U.S. Bank\n",
       "2  xmY0pzNvZKEzuN0XEqeV5w                  QQ Foot Spa\n",
       "3  aj1C0D7hniEPpsTidbCQIg     Express Collision Center\n",
       "4  45arahaS6jTtYBw_STLDXg             Wells Fargo Bank"
      ]
     },
     "execution_count": 35,
     "metadata": {},
     "output_type": "execute_result"
    }
   ],
   "source": [
    "business_info.head()"
   ]
  },
  {
   "cell_type": "code",
   "execution_count": 6,
   "metadata": {},
   "outputs": [
    {
     "name": "stdout",
     "output_type": "stream",
     "text": [
      "Num. of Users: 304524\n",
      "Num of Restaurants: 24768\n"
     ]
    }
   ],
   "source": [
    "n_users = review_df.user_id.nunique()\n",
    "n_business = business_df.business_id.nunique()\n",
    "\n",
    "print('Num. of Users: '+ str(n_users))\n",
    "print('Num of Restaurants: '+str(n_business))"
   ]
  },
  {
   "cell_type": "code",
   "execution_count": 7,
   "metadata": {
    "collapsed": true
   },
   "outputs": [],
   "source": [
    "data = pd.DataFrame.sort_values(review_df,['user_id'],ascending=[0])"
   ]
  },
  {
   "cell_type": "code",
   "execution_count": 8,
   "metadata": {},
   "outputs": [
    {
     "data": {
      "text/plain": [
       "621"
      ]
     },
     "execution_count": 8,
     "metadata": {},
     "output_type": "execute_result"
    }
   ],
   "source": [
    "BusinessPerUser=data.user_id.value_counts()\n",
    "UsersPerBusiness=data.business_id.value_counts()\n",
    "User_Extracted = [ i for i in range(len(BusinessPerUser)) if BusinessPerUser[i]>50 ]\n",
    "len(User_Extracted)"
   ]
  },
  {
   "cell_type": "code",
   "execution_count": 10,
   "metadata": {},
   "outputs": [
    {
     "data": {
      "text/plain": [
       "['bLbSNkLggFnqwNNzzq-Ijw',\n",
       " 'PKEzKWv_FktMm2mGPjwd0Q',\n",
       " 'UYcmGbelzRa0Q6JqzLoguw',\n",
       " 'n86B7IkbU20AkxlFX_5aew',\n",
       " 'N3oNEwh0qgPqPP3Em6wJXw',\n",
       " '3nDUQBjKyVor5wV0reJChg',\n",
       " 'fiGqQ7pIGKyZ9G0RqWLMpg',\n",
       " 'U4INQZOPSUaj8hMjLlZ3KA',\n",
       " 'qewG3X2O4X6JKskxyyqFwQ',\n",
       " 'C2C0GPKvzWWnP57Os9eQ0w']"
      ]
     },
     "execution_count": 10,
     "metadata": {},
     "output_type": "execute_result"
    }
   ],
   "source": [
    "Users_Extracted=[]\n",
    "for i in range(621):\n",
    "    Users_Extracted.append(BusinessPerUser.index[i])\n",
    "    \n",
    "# UserId with more than 80 reviews\n",
    "Users_Extracted[:10]"
   ]
  },
  {
   "cell_type": "code",
   "execution_count": 41,
   "metadata": {},
   "outputs": [
    {
     "data": {
      "text/plain": [
       "58978"
      ]
     },
     "execution_count": 41,
     "metadata": {},
     "output_type": "execute_result"
    }
   ],
   "source": [
    "data_index = [i for i in range(len(data)) if data.user_id[i] in Users_Extracted]\n",
    "data_needed = data.loc[data_index]\n",
    "len(data_needed)"
   ]
  },
  {
   "cell_type": "code",
   "execution_count": 42,
   "metadata": {},
   "outputs": [
    {
     "data": {
      "text/html": [
       "<div>\n",
       "<style>\n",
       "    .dataframe thead tr:only-child th {\n",
       "        text-align: right;\n",
       "    }\n",
       "\n",
       "    .dataframe thead th {\n",
       "        text-align: left;\n",
       "    }\n",
       "\n",
       "    .dataframe tbody tr th {\n",
       "        vertical-align: top;\n",
       "    }\n",
       "</style>\n",
       "<table border=\"1\" class=\"dataframe\">\n",
       "  <thead>\n",
       "    <tr style=\"text-align: right;\">\n",
       "      <th></th>\n",
       "      <th>business_id</th>\n",
       "      <th>cool</th>\n",
       "      <th>date</th>\n",
       "      <th>funny</th>\n",
       "      <th>review_id</th>\n",
       "      <th>stars</th>\n",
       "      <th>text</th>\n",
       "      <th>useful</th>\n",
       "      <th>user_id</th>\n",
       "    </tr>\n",
       "  </thead>\n",
       "  <tbody>\n",
       "    <tr>\n",
       "      <th>0</th>\n",
       "      <td>N9BN9ldVl1FNzcB9_eAstw</td>\n",
       "      <td>2</td>\n",
       "      <td>2013-05-26</td>\n",
       "      <td>2</td>\n",
       "      <td>pPRcjyPMWu4eXeRyRuf-_A</td>\n",
       "      <td>5</td>\n",
       "      <td>Yeah yeah yeah...this was a while ago.  Better...</td>\n",
       "      <td>2</td>\n",
       "      <td>eZZyuJDouIg4p-GYB3PV_A</td>\n",
       "    </tr>\n",
       "    <tr>\n",
       "      <th>2</th>\n",
       "      <td>N9BN9ldVl1FNzcB9_eAstw</td>\n",
       "      <td>4</td>\n",
       "      <td>2013-05-26</td>\n",
       "      <td>4</td>\n",
       "      <td>y3dWmTku0tMtoCrU9i-1bQ</td>\n",
       "      <td>5</td>\n",
       "      <td>I may be the worst yelping bowler of All-time,...</td>\n",
       "      <td>2</td>\n",
       "      <td>KtIh1kjkVESCqd2CCsQnhA</td>\n",
       "    </tr>\n",
       "    <tr>\n",
       "      <th>3</th>\n",
       "      <td>N9BN9ldVl1FNzcB9_eAstw</td>\n",
       "      <td>2</td>\n",
       "      <td>2013-05-27</td>\n",
       "      <td>2</td>\n",
       "      <td>vf8ZasMUpu3eBK4OjZBzww</td>\n",
       "      <td>5</td>\n",
       "      <td>What's to be said that hasn't already been sai...</td>\n",
       "      <td>2</td>\n",
       "      <td>UQB87Neb-M6xbxT6hi9rcw</td>\n",
       "    </tr>\n",
       "    <tr>\n",
       "      <th>4</th>\n",
       "      <td>N9BN9ldVl1FNzcB9_eAstw</td>\n",
       "      <td>6</td>\n",
       "      <td>2013-05-22</td>\n",
       "      <td>6</td>\n",
       "      <td>zOZVF6k7BsjcuHhjIOTtvQ</td>\n",
       "      <td>5</td>\n",
       "      <td>Some people say that most sequels don't do the...</td>\n",
       "      <td>6</td>\n",
       "      <td>0FMte0z-repSVWSJ_BaQTg</td>\n",
       "    </tr>\n",
       "    <tr>\n",
       "      <th>6</th>\n",
       "      <td>N9BN9ldVl1FNzcB9_eAstw</td>\n",
       "      <td>4</td>\n",
       "      <td>2013-05-22</td>\n",
       "      <td>3</td>\n",
       "      <td>tgkdyyKPEP6A3uc_QNSajw</td>\n",
       "      <td>5</td>\n",
       "      <td>First of all, thanks Roger for putting togethe...</td>\n",
       "      <td>4</td>\n",
       "      <td>P9yweXls2Pg-EMipYr45XA</td>\n",
       "    </tr>\n",
       "  </tbody>\n",
       "</table>\n",
       "</div>"
      ],
      "text/plain": [
       "              business_id  cool        date  funny               review_id  \\\n",
       "0  N9BN9ldVl1FNzcB9_eAstw     2  2013-05-26      2  pPRcjyPMWu4eXeRyRuf-_A   \n",
       "2  N9BN9ldVl1FNzcB9_eAstw     4  2013-05-26      4  y3dWmTku0tMtoCrU9i-1bQ   \n",
       "3  N9BN9ldVl1FNzcB9_eAstw     2  2013-05-27      2  vf8ZasMUpu3eBK4OjZBzww   \n",
       "4  N9BN9ldVl1FNzcB9_eAstw     6  2013-05-22      6  zOZVF6k7BsjcuHhjIOTtvQ   \n",
       "6  N9BN9ldVl1FNzcB9_eAstw     4  2013-05-22      3  tgkdyyKPEP6A3uc_QNSajw   \n",
       "\n",
       "   stars                                               text  useful  \\\n",
       "0      5  Yeah yeah yeah...this was a while ago.  Better...       2   \n",
       "2      5  I may be the worst yelping bowler of All-time,...       2   \n",
       "3      5  What's to be said that hasn't already been sai...       2   \n",
       "4      5  Some people say that most sequels don't do the...       6   \n",
       "6      5  First of all, thanks Roger for putting togethe...       4   \n",
       "\n",
       "                  user_id  \n",
       "0  eZZyuJDouIg4p-GYB3PV_A  \n",
       "2  KtIh1kjkVESCqd2CCsQnhA  \n",
       "3  UQB87Neb-M6xbxT6hi9rcw  \n",
       "4  0FMte0z-repSVWSJ_BaQTg  \n",
       "6  P9yweXls2Pg-EMipYr45XA  "
      ]
     },
     "execution_count": 42,
     "metadata": {},
     "output_type": "execute_result"
    }
   ],
   "source": [
    "data_needed.head()"
   ]
  },
  {
   "cell_type": "code",
   "execution_count": 43,
   "metadata": {
    "collapsed": true
   },
   "outputs": [],
   "source": [
    "del data_needed['cool']\n",
    "del data_needed['funny']\n",
    "del data_needed['text']\n",
    "del data_needed['useful']\n",
    "del data_needed['review_id']\n",
    "del data_needed['date']"
   ]
  },
  {
   "cell_type": "code",
   "execution_count": 44,
   "metadata": {},
   "outputs": [
    {
     "data": {
      "text/html": [
       "<div>\n",
       "<style>\n",
       "    .dataframe thead tr:only-child th {\n",
       "        text-align: right;\n",
       "    }\n",
       "\n",
       "    .dataframe thead th {\n",
       "        text-align: left;\n",
       "    }\n",
       "\n",
       "    .dataframe tbody tr th {\n",
       "        vertical-align: top;\n",
       "    }\n",
       "</style>\n",
       "<table border=\"1\" class=\"dataframe\">\n",
       "  <thead>\n",
       "    <tr style=\"text-align: right;\">\n",
       "      <th></th>\n",
       "      <th>business_id</th>\n",
       "      <th>stars</th>\n",
       "      <th>user_id</th>\n",
       "    </tr>\n",
       "  </thead>\n",
       "  <tbody>\n",
       "    <tr>\n",
       "      <th>1</th>\n",
       "      <td>N9BN9ldVl1FNzcB9_eAstw</td>\n",
       "      <td>5</td>\n",
       "      <td>eZZyuJDouIg4p-GYB3PV_A</td>\n",
       "    </tr>\n",
       "    <tr>\n",
       "      <th>2</th>\n",
       "      <td>N9BN9ldVl1FNzcB9_eAstw</td>\n",
       "      <td>5</td>\n",
       "      <td>KtIh1kjkVESCqd2CCsQnhA</td>\n",
       "    </tr>\n",
       "    <tr>\n",
       "      <th>3</th>\n",
       "      <td>N9BN9ldVl1FNzcB9_eAstw</td>\n",
       "      <td>5</td>\n",
       "      <td>UQB87Neb-M6xbxT6hi9rcw</td>\n",
       "    </tr>\n",
       "    <tr>\n",
       "      <th>4</th>\n",
       "      <td>N9BN9ldVl1FNzcB9_eAstw</td>\n",
       "      <td>5</td>\n",
       "      <td>0FMte0z-repSVWSJ_BaQTg</td>\n",
       "    </tr>\n",
       "    <tr>\n",
       "      <th>5</th>\n",
       "      <td>N9BN9ldVl1FNzcB9_eAstw</td>\n",
       "      <td>5</td>\n",
       "      <td>P9yweXls2Pg-EMipYr45XA</td>\n",
       "    </tr>\n",
       "  </tbody>\n",
       "</table>\n",
       "</div>"
      ],
      "text/plain": [
       "              business_id  stars                 user_id\n",
       "1  N9BN9ldVl1FNzcB9_eAstw      5  eZZyuJDouIg4p-GYB3PV_A\n",
       "2  N9BN9ldVl1FNzcB9_eAstw      5  KtIh1kjkVESCqd2CCsQnhA\n",
       "3  N9BN9ldVl1FNzcB9_eAstw      5  UQB87Neb-M6xbxT6hi9rcw\n",
       "4  N9BN9ldVl1FNzcB9_eAstw      5  0FMte0z-repSVWSJ_BaQTg\n",
       "5  N9BN9ldVl1FNzcB9_eAstw      5  P9yweXls2Pg-EMipYr45XA"
      ]
     },
     "execution_count": 44,
     "metadata": {},
     "output_type": "execute_result"
    }
   ],
   "source": [
    "data_needed.index=range(1,58979)\n",
    "data_needed.head()"
   ]
  },
  {
   "cell_type": "code",
   "execution_count": 45,
   "metadata": {},
   "outputs": [
    {
     "name": "stdout",
     "output_type": "stream",
     "text": [
      "Num. of Users: 621\n",
      "Num of Restaurant: 11631\n"
     ]
    }
   ],
   "source": [
    "n_users_extracted = data_needed.user_id.nunique()\n",
    "n_items_extracted = data_needed.business_id.nunique()\n",
    "\n",
    "print('Num. of Users: '+ str(n_users_extracted))\n",
    "print('Num of Restaurant: '+str(n_items_extracted))"
   ]
  },
  {
   "cell_type": "code",
   "execution_count": 50,
   "metadata": {},
   "outputs": [
    {
     "data": {
      "text/html": [
       "<div>\n",
       "<style>\n",
       "    .dataframe thead tr:only-child th {\n",
       "        text-align: right;\n",
       "    }\n",
       "\n",
       "    .dataframe thead th {\n",
       "        text-align: left;\n",
       "    }\n",
       "\n",
       "    .dataframe tbody tr th {\n",
       "        vertical-align: top;\n",
       "    }\n",
       "</style>\n",
       "<table border=\"1\" class=\"dataframe\">\n",
       "  <thead>\n",
       "    <tr style=\"text-align: right;\">\n",
       "      <th></th>\n",
       "      <th>business_id</th>\n",
       "      <th>stars</th>\n",
       "      <th>user_id</th>\n",
       "      <th>company_name</th>\n",
       "    </tr>\n",
       "  </thead>\n",
       "  <tbody>\n",
       "    <tr>\n",
       "      <th>0</th>\n",
       "      <td>N9BN9ldVl1FNzcB9_eAstw</td>\n",
       "      <td>5</td>\n",
       "      <td>eZZyuJDouIg4p-GYB3PV_A</td>\n",
       "      <td>Red Rock Bowling UYE Part 2</td>\n",
       "    </tr>\n",
       "    <tr>\n",
       "      <th>1</th>\n",
       "      <td>N9BN9ldVl1FNzcB9_eAstw</td>\n",
       "      <td>5</td>\n",
       "      <td>KtIh1kjkVESCqd2CCsQnhA</td>\n",
       "      <td>Red Rock Bowling UYE Part 2</td>\n",
       "    </tr>\n",
       "    <tr>\n",
       "      <th>2</th>\n",
       "      <td>N9BN9ldVl1FNzcB9_eAstw</td>\n",
       "      <td>5</td>\n",
       "      <td>UQB87Neb-M6xbxT6hi9rcw</td>\n",
       "      <td>Red Rock Bowling UYE Part 2</td>\n",
       "    </tr>\n",
       "    <tr>\n",
       "      <th>3</th>\n",
       "      <td>N9BN9ldVl1FNzcB9_eAstw</td>\n",
       "      <td>5</td>\n",
       "      <td>0FMte0z-repSVWSJ_BaQTg</td>\n",
       "      <td>Red Rock Bowling UYE Part 2</td>\n",
       "    </tr>\n",
       "    <tr>\n",
       "      <th>4</th>\n",
       "      <td>N9BN9ldVl1FNzcB9_eAstw</td>\n",
       "      <td>5</td>\n",
       "      <td>P9yweXls2Pg-EMipYr45XA</td>\n",
       "      <td>Red Rock Bowling UYE Part 2</td>\n",
       "    </tr>\n",
       "  </tbody>\n",
       "</table>\n",
       "</div>"
      ],
      "text/plain": [
       "              business_id  stars                 user_id  \\\n",
       "0  N9BN9ldVl1FNzcB9_eAstw      5  eZZyuJDouIg4p-GYB3PV_A   \n",
       "1  N9BN9ldVl1FNzcB9_eAstw      5  KtIh1kjkVESCqd2CCsQnhA   \n",
       "2  N9BN9ldVl1FNzcB9_eAstw      5  UQB87Neb-M6xbxT6hi9rcw   \n",
       "3  N9BN9ldVl1FNzcB9_eAstw      5  0FMte0z-repSVWSJ_BaQTg   \n",
       "4  N9BN9ldVl1FNzcB9_eAstw      5  P9yweXls2Pg-EMipYr45XA   \n",
       "\n",
       "                  company_name  \n",
       "0  Red Rock Bowling UYE Part 2  \n",
       "1  Red Rock Bowling UYE Part 2  \n",
       "2  Red Rock Bowling UYE Part 2  \n",
       "3  Red Rock Bowling UYE Part 2  \n",
       "4  Red Rock Bowling UYE Part 2  "
      ]
     },
     "execution_count": 50,
     "metadata": {},
     "output_type": "execute_result"
    }
   ],
   "source": [
    "data_needed.head()"
   ]
  },
  {
   "cell_type": "code",
   "execution_count": 47,
   "metadata": {},
   "outputs": [],
   "source": [
    "data_needed = pd.merge(data_needed,business_info,on='business_id')"
   ]
  },
  {
   "cell_type": "code",
   "execution_count": 52,
   "metadata": {},
   "outputs": [
    {
     "data": {
      "text/plain": [
       "58978"
      ]
     },
     "execution_count": 52,
     "metadata": {},
     "output_type": "execute_result"
    }
   ],
   "source": [
    "len(data_needed)"
   ]
  },
  {
   "cell_type": "code",
   "execution_count": 56,
   "metadata": {},
   "outputs": [
    {
     "data": {
      "text/plain": [
       "'N9BN9ldVl1FNzcB9_eAstw'"
      ]
     },
     "execution_count": 56,
     "metadata": {},
     "output_type": "execute_result"
    }
   ],
   "source": [
    "data_needed.business_id[1]"
   ]
  },
  {
   "cell_type": "code",
   "execution_count": 57,
   "metadata": {},
   "outputs": [],
   "source": [
    "company_list=[]\n",
    "for i in range(len(data_needed)):\n",
    "    if data_needed.business_id[i] not in company_list:\n",
    "        company_list.append(data_needed.business_id[i])"
   ]
  },
  {
   "cell_type": "code",
   "execution_count": 78,
   "metadata": {
    "collapsed": true
   },
   "outputs": [],
   "source": [
    "user_list=[]\n",
    "for i in range(len(data_needed)):\n",
    "    if data_needed.user_id[i] not in user_list:\n",
    "        user_list.append(data_needed.user_id[i])"
   ]
  },
  {
   "cell_type": "code",
   "execution_count": 130,
   "metadata": {},
   "outputs": [
    {
     "data": {
      "text/plain": [
       "4"
      ]
     },
     "execution_count": 130,
     "metadata": {},
     "output_type": "execute_result"
    }
   ],
   "source": [
    "company_index = pd.DataFrame(company_list, columns=['company_id'])\n",
    "company_index.company_id[company_index.company_id=='QTH_XGh4rWYdd0fTW-tUDw'].index[0]"
   ]
  },
  {
   "cell_type": "code",
   "execution_count": 98,
   "metadata": {},
   "outputs": [
    {
     "data": {
      "text/html": [
       "<div>\n",
       "<style>\n",
       "    .dataframe thead tr:only-child th {\n",
       "        text-align: right;\n",
       "    }\n",
       "\n",
       "    .dataframe thead th {\n",
       "        text-align: left;\n",
       "    }\n",
       "\n",
       "    .dataframe tbody tr th {\n",
       "        vertical-align: top;\n",
       "    }\n",
       "</style>\n",
       "<table border=\"1\" class=\"dataframe\">\n",
       "  <thead>\n",
       "    <tr style=\"text-align: right;\">\n",
       "      <th></th>\n",
       "      <th>company_id</th>\n",
       "    </tr>\n",
       "  </thead>\n",
       "  <tbody>\n",
       "    <tr>\n",
       "      <th>0</th>\n",
       "      <td>N9BN9ldVl1FNzcB9_eAstw</td>\n",
       "    </tr>\n",
       "    <tr>\n",
       "      <th>1</th>\n",
       "      <td>BmSJ6C7Y9s3tHotRetVbmA</td>\n",
       "    </tr>\n",
       "    <tr>\n",
       "      <th>2</th>\n",
       "      <td>aj1C0D7hniEPpsTidbCQIg</td>\n",
       "    </tr>\n",
       "    <tr>\n",
       "      <th>3</th>\n",
       "      <td>45arahaS6jTtYBw_STLDXg</td>\n",
       "    </tr>\n",
       "    <tr>\n",
       "      <th>4</th>\n",
       "      <td>QTH_XGh4rWYdd0fTW-tUDw</td>\n",
       "    </tr>\n",
       "  </tbody>\n",
       "</table>\n",
       "</div>"
      ],
      "text/plain": [
       "               company_id\n",
       "0  N9BN9ldVl1FNzcB9_eAstw\n",
       "1  BmSJ6C7Y9s3tHotRetVbmA\n",
       "2  aj1C0D7hniEPpsTidbCQIg\n",
       "3  45arahaS6jTtYBw_STLDXg\n",
       "4  QTH_XGh4rWYdd0fTW-tUDw"
      ]
     },
     "execution_count": 98,
     "metadata": {},
     "output_type": "execute_result"
    }
   ],
   "source": [
    "company_index.head()"
   ]
  },
  {
   "cell_type": "code",
   "execution_count": 79,
   "metadata": {},
   "outputs": [
    {
     "data": {
      "text/html": [
       "<div>\n",
       "<style>\n",
       "    .dataframe thead tr:only-child th {\n",
       "        text-align: right;\n",
       "    }\n",
       "\n",
       "    .dataframe thead th {\n",
       "        text-align: left;\n",
       "    }\n",
       "\n",
       "    .dataframe tbody tr th {\n",
       "        vertical-align: top;\n",
       "    }\n",
       "</style>\n",
       "<table border=\"1\" class=\"dataframe\">\n",
       "  <thead>\n",
       "    <tr style=\"text-align: right;\">\n",
       "      <th></th>\n",
       "      <th>user_id</th>\n",
       "    </tr>\n",
       "  </thead>\n",
       "  <tbody>\n",
       "    <tr>\n",
       "      <th>0</th>\n",
       "      <td>eZZyuJDouIg4p-GYB3PV_A</td>\n",
       "    </tr>\n",
       "    <tr>\n",
       "      <th>1</th>\n",
       "      <td>KtIh1kjkVESCqd2CCsQnhA</td>\n",
       "    </tr>\n",
       "    <tr>\n",
       "      <th>2</th>\n",
       "      <td>UQB87Neb-M6xbxT6hi9rcw</td>\n",
       "    </tr>\n",
       "    <tr>\n",
       "      <th>3</th>\n",
       "      <td>0FMte0z-repSVWSJ_BaQTg</td>\n",
       "    </tr>\n",
       "    <tr>\n",
       "      <th>4</th>\n",
       "      <td>P9yweXls2Pg-EMipYr45XA</td>\n",
       "    </tr>\n",
       "  </tbody>\n",
       "</table>\n",
       "</div>"
      ],
      "text/plain": [
       "                  user_id\n",
       "0  eZZyuJDouIg4p-GYB3PV_A\n",
       "1  KtIh1kjkVESCqd2CCsQnhA\n",
       "2  UQB87Neb-M6xbxT6hi9rcw\n",
       "3  0FMte0z-repSVWSJ_BaQTg\n",
       "4  P9yweXls2Pg-EMipYr45XA"
      ]
     },
     "execution_count": 79,
     "metadata": {},
     "output_type": "execute_result"
    }
   ],
   "source": [
    "user_index = pd.DataFrame(user_list, columns=['user_id'])\n",
    "user_index.head()"
   ]
  },
  {
   "cell_type": "code",
   "execution_count": 80,
   "metadata": {},
   "outputs": [
    {
     "data": {
      "text/plain": [
       "'N9BN9ldVl1FNzcB9_eAstw'"
      ]
     },
     "execution_count": 80,
     "metadata": {},
     "output_type": "execute_result"
    }
   ],
   "source": [
    "data_needed.business_id[0]"
   ]
  },
  {
   "cell_type": "code",
   "execution_count": 132,
   "metadata": {},
   "outputs": [],
   "source": [
    "company_id_added=[]\n",
    "for i in range(len(data_needed)):\n",
    "    company_id_added.append(company_index.company_id[company_index.company_id==data_needed.business_id[i]].index[0])"
   ]
  },
  {
   "cell_type": "code",
   "execution_count": 166,
   "metadata": {},
   "outputs": [
    {
     "data": {
      "text/plain": [
       "[0, 0, 0, 0, 0, 1, 2, 3, 4, 5]"
      ]
     },
     "execution_count": 166,
     "metadata": {},
     "output_type": "execute_result"
    }
   ],
   "source": [
    "company_id_added[:10]"
   ]
  },
  {
   "cell_type": "code",
   "execution_count": 134,
   "metadata": {},
   "outputs": [],
   "source": [
    "user_id_added=[]\n",
    "for i in range(len(data_needed)):\n",
    "    user_id_added.append(user_index.user_id[user_index.user_id==data_needed.user_id[i]].index[0])"
   ]
  },
  {
   "cell_type": "code",
   "execution_count": 140,
   "metadata": {},
   "outputs": [],
   "source": [
    "data_needed['business_index'] = company_id_added"
   ]
  },
  {
   "cell_type": "code",
   "execution_count": 141,
   "metadata": {
    "collapsed": true
   },
   "outputs": [],
   "source": [
    "data_needed['user_index'] = user_id_added"
   ]
  },
  {
   "cell_type": "code",
   "execution_count": 144,
   "metadata": {},
   "outputs": [
    {
     "data": {
      "text/html": [
       "<div>\n",
       "<style>\n",
       "    .dataframe thead tr:only-child th {\n",
       "        text-align: right;\n",
       "    }\n",
       "\n",
       "    .dataframe thead th {\n",
       "        text-align: left;\n",
       "    }\n",
       "\n",
       "    .dataframe tbody tr th {\n",
       "        vertical-align: top;\n",
       "    }\n",
       "</style>\n",
       "<table border=\"1\" class=\"dataframe\">\n",
       "  <thead>\n",
       "    <tr style=\"text-align: right;\">\n",
       "      <th></th>\n",
       "      <th>stars</th>\n",
       "      <th>company_name</th>\n",
       "      <th>business_index</th>\n",
       "      <th>user_index</th>\n",
       "    </tr>\n",
       "  </thead>\n",
       "  <tbody>\n",
       "    <tr>\n",
       "      <th>0</th>\n",
       "      <td>5</td>\n",
       "      <td>Red Rock Bowling UYE Part 2</td>\n",
       "      <td>0</td>\n",
       "      <td>0</td>\n",
       "    </tr>\n",
       "    <tr>\n",
       "      <th>1</th>\n",
       "      <td>5</td>\n",
       "      <td>Red Rock Bowling UYE Part 2</td>\n",
       "      <td>0</td>\n",
       "      <td>1</td>\n",
       "    </tr>\n",
       "    <tr>\n",
       "      <th>2</th>\n",
       "      <td>5</td>\n",
       "      <td>Red Rock Bowling UYE Part 2</td>\n",
       "      <td>0</td>\n",
       "      <td>2</td>\n",
       "    </tr>\n",
       "    <tr>\n",
       "      <th>3</th>\n",
       "      <td>5</td>\n",
       "      <td>Red Rock Bowling UYE Part 2</td>\n",
       "      <td>0</td>\n",
       "      <td>3</td>\n",
       "    </tr>\n",
       "    <tr>\n",
       "      <th>4</th>\n",
       "      <td>5</td>\n",
       "      <td>Red Rock Bowling UYE Part 2</td>\n",
       "      <td>0</td>\n",
       "      <td>4</td>\n",
       "    </tr>\n",
       "  </tbody>\n",
       "</table>\n",
       "</div>"
      ],
      "text/plain": [
       "   stars                 company_name  business_index  user_index\n",
       "0      5  Red Rock Bowling UYE Part 2               0           0\n",
       "1      5  Red Rock Bowling UYE Part 2               0           1\n",
       "2      5  Red Rock Bowling UYE Part 2               0           2\n",
       "3      5  Red Rock Bowling UYE Part 2               0           3\n",
       "4      5  Red Rock Bowling UYE Part 2               0           4"
      ]
     },
     "execution_count": 144,
     "metadata": {},
     "output_type": "execute_result"
    }
   ],
   "source": [
    "data_needed.head()"
   ]
  },
  {
   "cell_type": "code",
   "execution_count": 147,
   "metadata": {},
   "outputs": [
    {
     "data": {
      "text/plain": [
       "['user_index', 'stars', 'company_name', 'business_index']"
      ]
     },
     "execution_count": 147,
     "metadata": {},
     "output_type": "execute_result"
    }
   ],
   "source": [
    "cols = data_needed.columns.tolist()\n",
    "cols = cols[-1:] + cols[:-1]"
   ]
  },
  {
   "cell_type": "code",
   "execution_count": 148,
   "metadata": {},
   "outputs": [
    {
     "data": {
      "text/plain": [
       "['business_index', 'user_index', 'stars', 'company_name']"
      ]
     },
     "execution_count": 148,
     "metadata": {},
     "output_type": "execute_result"
    }
   ],
   "source": [
    "cols = cols[-1:] + cols[:-1]\n",
    "cols"
   ]
  },
  {
   "cell_type": "code",
   "execution_count": 149,
   "metadata": {
    "collapsed": true
   },
   "outputs": [],
   "source": [
    "data_needed = data_needed[cols]"
   ]
  },
  {
   "cell_type": "code",
   "execution_count": 151,
   "metadata": {},
   "outputs": [
    {
     "data": {
      "text/html": [
       "<div>\n",
       "<style>\n",
       "    .dataframe thead tr:only-child th {\n",
       "        text-align: right;\n",
       "    }\n",
       "\n",
       "    .dataframe thead th {\n",
       "        text-align: left;\n",
       "    }\n",
       "\n",
       "    .dataframe tbody tr th {\n",
       "        vertical-align: top;\n",
       "    }\n",
       "</style>\n",
       "<table border=\"1\" class=\"dataframe\">\n",
       "  <thead>\n",
       "    <tr style=\"text-align: right;\">\n",
       "      <th></th>\n",
       "      <th>business_index</th>\n",
       "      <th>user_index</th>\n",
       "      <th>stars</th>\n",
       "      <th>company_name</th>\n",
       "    </tr>\n",
       "  </thead>\n",
       "  <tbody>\n",
       "    <tr>\n",
       "      <th>0</th>\n",
       "      <td>0</td>\n",
       "      <td>0</td>\n",
       "      <td>5</td>\n",
       "      <td>Red Rock Bowling UYE Part 2</td>\n",
       "    </tr>\n",
       "    <tr>\n",
       "      <th>1</th>\n",
       "      <td>0</td>\n",
       "      <td>1</td>\n",
       "      <td>5</td>\n",
       "      <td>Red Rock Bowling UYE Part 2</td>\n",
       "    </tr>\n",
       "    <tr>\n",
       "      <th>2</th>\n",
       "      <td>0</td>\n",
       "      <td>2</td>\n",
       "      <td>5</td>\n",
       "      <td>Red Rock Bowling UYE Part 2</td>\n",
       "    </tr>\n",
       "    <tr>\n",
       "      <th>3</th>\n",
       "      <td>0</td>\n",
       "      <td>3</td>\n",
       "      <td>5</td>\n",
       "      <td>Red Rock Bowling UYE Part 2</td>\n",
       "    </tr>\n",
       "    <tr>\n",
       "      <th>4</th>\n",
       "      <td>0</td>\n",
       "      <td>4</td>\n",
       "      <td>5</td>\n",
       "      <td>Red Rock Bowling UYE Part 2</td>\n",
       "    </tr>\n",
       "  </tbody>\n",
       "</table>\n",
       "</div>"
      ],
      "text/plain": [
       "   business_index  user_index  stars                 company_name\n",
       "0               0           0      5  Red Rock Bowling UYE Part 2\n",
       "1               0           1      5  Red Rock Bowling UYE Part 2\n",
       "2               0           2      5  Red Rock Bowling UYE Part 2\n",
       "3               0           3      5  Red Rock Bowling UYE Part 2\n",
       "4               0           4      5  Red Rock Bowling UYE Part 2"
      ]
     },
     "execution_count": 151,
     "metadata": {},
     "output_type": "execute_result"
    }
   ],
   "source": [
    "data_needed.head()"
   ]
  },
  {
   "cell_type": "code",
   "execution_count": 143,
   "metadata": {},
   "outputs": [],
   "source": [
    "del data_needed['business_id']\n",
    "del data_needed['user_id']"
   ]
  },
  {
   "cell_type": "code",
   "execution_count": 152,
   "metadata": {},
   "outputs": [],
   "source": [
    "from sklearn.cross_validation import train_test_split\n",
    "train_data, test_data = train_test_split(data_needed, test_size=0.25)"
   ]
  },
  {
   "cell_type": "code",
   "execution_count": 153,
   "metadata": {},
   "outputs": [
    {
     "data": {
      "text/plain": [
       "array([[ 0.,  0.,  0., ...,  0.,  0.,  0.],\n",
       "       [ 0.,  0.,  0., ...,  0.,  0.,  0.],\n",
       "       [ 0.,  0.,  0., ...,  0.,  0.,  0.],\n",
       "       ..., \n",
       "       [ 0.,  0.,  0., ...,  0.,  0.,  0.],\n",
       "       [ 0.,  0.,  0., ...,  0.,  0.,  0.],\n",
       "       [ 0.,  0.,  0., ...,  0.,  0.,  0.]])"
      ]
     },
     "execution_count": 153,
     "metadata": {},
     "output_type": "execute_result"
    }
   ],
   "source": [
    "train_data_matrix"
   ]
  },
  {
   "cell_type": "code",
   "execution_count": 154,
   "metadata": {},
   "outputs": [],
   "source": [
    "#Create two user-item matrices, one for training and another for testing\n",
    "train_data_matrix = np.zeros((n_users_extracted, n_items_extracted))\n",
    "for line in train_data.itertuples():\n",
    "    train_data_matrix[line[2], line[1]] = line[3]  \n",
    "test_data_matrix = np.zeros((n_users_extracted, n_items_extracted))\n",
    "for line in test_data.itertuples():\n",
    "    test_data_matrix[line[2], line[1]] = line[3]"
   ]
  },
  {
   "cell_type": "code",
   "execution_count": 156,
   "metadata": {},
   "outputs": [
    {
     "data": {
      "text/plain": [
       "array([[ 5.,  0.,  0., ...,  0.,  0.,  0.],\n",
       "       [ 0.,  0.,  0., ...,  0.,  0.,  0.],\n",
       "       [ 0.,  0.,  0., ...,  0.,  0.,  0.],\n",
       "       ..., \n",
       "       [ 0.,  0.,  0., ...,  0.,  0.,  0.],\n",
       "       [ 0.,  0.,  0., ...,  0.,  0.,  0.],\n",
       "       [ 0.,  0.,  0., ...,  0.,  0.,  0.]])"
      ]
     },
     "execution_count": 156,
     "metadata": {},
     "output_type": "execute_result"
    }
   ],
   "source": [
    "train_data_matrix"
   ]
  },
  {
   "cell_type": "code",
   "execution_count": 157,
   "metadata": {
    "collapsed": true
   },
   "outputs": [],
   "source": [
    "# distance metric: Cosine similiarity\n",
    "# use the pairwise_distances function from sklearn to calculate the cosine similarity. \n",
    "# the output will range from 0 to 1 since the ratings are all positive.\n",
    "from sklearn.metrics.pairwise import pairwise_distances\n",
    "user_similarity = pairwise_distances(train_data_matrix, metric='cosine')\n",
    "item_similarity = pairwise_distances(train_data_matrix.T, metric='cosine')"
   ]
  },
  {
   "cell_type": "code",
   "execution_count": 158,
   "metadata": {
    "collapsed": true
   },
   "outputs": [],
   "source": [
    "def predict(ratings,similarity,type='user'):\n",
    "    if type == 'user':\n",
    "        mean_user_rating = ratings.mean(axis=1)\n",
    "        ratings_diff = (ratings - mean_user_rating[:, np.newaxis]) \n",
    "        pred = mean_user_rating[:, np.newaxis] + similarity.dot(ratings_diff) / np.array([np.abs(similarity).sum(axis=1)]).T\n",
    "    elif type == 'item':\n",
    "        pred = ratings.dot(similarity) / np.array([np.abs(similarity).sum(axis=1)])     \n",
    "    return pred"
   ]
  },
  {
   "cell_type": "code",
   "execution_count": 159,
   "metadata": {
    "collapsed": true
   },
   "outputs": [],
   "source": [
    "# Item-Item Collaborative Filtering (similarity looking into two restaurants that are both rated by the same user)\n",
    "item_prediction = predict(train_data_matrix, item_similarity, type='item')\n",
    "# User-Item Collaborative Filtering (similarity looking into two users both rated the same restaurant)\n",
    "user_prediction = predict(train_data_matrix, user_similarity, type='user')"
   ]
  },
  {
   "cell_type": "code",
   "execution_count": 160,
   "metadata": {
    "collapsed": true
   },
   "outputs": [],
   "source": [
    "# Use Root Mean Squared Error (RMSE) metric to evaluate accuracy of predicted ratings\n",
    "from sklearn.metrics import mean_squared_error\n",
    "from math import sqrt\n",
    "def rmse(prediction, ground_truth):\n",
    "    # We only want to consider predicted ratings that are in the test dataset \n",
    "    # Filter out all other elements in the prediction matrix with prediction[ground_truth.nonzero()].\n",
    "    prediction = prediction[ground_truth.nonzero()].flatten() \n",
    "    ground_truth = ground_truth[ground_truth.nonzero()].flatten()\n",
    "    return sqrt(mean_squared_error(prediction, ground_truth))"
   ]
  },
  {
   "cell_type": "code",
   "execution_count": 161,
   "metadata": {},
   "outputs": [
    {
     "name": "stdout",
     "output_type": "stream",
     "text": [
      "User-based CF RMSE: 3.8045206705557084\n",
      "Item-based CF RMSE: 3.860916119572719\n"
     ]
    }
   ],
   "source": [
    "print('User-based CF RMSE: ' + str(rmse(user_prediction, test_data_matrix)))\n",
    "print('Item-based CF RMSE: ' + str(rmse(item_prediction, test_data_matrix)))"
   ]
  },
  {
   "cell_type": "code",
   "execution_count": null,
   "metadata": {
    "collapsed": true
   },
   "outputs": [],
   "source": [
    "# Calculate the sparsity level of our matrix => Implement Matrix Factorization"
   ]
  },
  {
   "cell_type": "code",
   "execution_count": 163,
   "metadata": {},
   "outputs": [
    {
     "name": "stdout",
     "output_type": "stream",
     "text": [
      "The sparsity level of matrix is 99.2%\n"
     ]
    }
   ],
   "source": [
    "sparsity=round(1.0-len(data_needed)/float(n_users_extracted*n_items_extracted),3)\n",
    "print('The sparsity level of matrix is ' +  str(sparsity*100) + '%')"
   ]
  },
  {
   "cell_type": "code",
   "execution_count": 177,
   "metadata": {},
   "outputs": [
    {
     "name": "stdout",
     "output_type": "stream",
     "text": [
      "User-based CF MSE: 3.778743965225859\n"
     ]
    }
   ],
   "source": [
    "# Model-based Collaborative Filtering - Singular Value Decomposition\n",
    "# Collaborative Filtering can be formulated by approximating a matrix X by using singular value decomposition.\n",
    "import scipy.sparse as sp\n",
    "from scipy.sparse.linalg import svds\n",
    "\n",
    "# get SVD components from train matrix. Choose k.\n",
    "# u: (m x r) orthogonal matrix\n",
    "# s: (r x r) diagonal matrix with non-negative real numbers on the diagonal(singular values of X)\n",
    "# vt: (r x n) orthogonal matrix\n",
    "# general equation: X =us(vt)\n",
    "u, s, vt = svds(train_data_matrix, k = 21)\n",
    "s_diag_matrix=np.diag(s)\n",
    "X_pred = np.dot(np.dot(u, s_diag_matrix), vt)\n",
    "print('User-based CF MSE: ' + str(rmse(X_pred, test_data_matrix)))"
   ]
  },
  {
   "cell_type": "code",
   "execution_count": null,
   "metadata": {
    "collapsed": true
   },
   "outputs": [],
   "source": [
    "# Results are slightly better than Memory-Based Content Filtering"
   ]
  }
 ],
 "metadata": {
  "kernelspec": {
   "display_name": "Python 3",
   "language": "python",
   "name": "python3"
  },
  "language_info": {
   "codemirror_mode": {
    "name": "ipython",
    "version": 3
   },
   "file_extension": ".py",
   "mimetype": "text/x-python",
   "name": "python",
   "nbconvert_exporter": "python",
   "pygments_lexer": "ipython3",
   "version": "3.6.1"
  }
 },
 "nbformat": 4,
 "nbformat_minor": 2
}
